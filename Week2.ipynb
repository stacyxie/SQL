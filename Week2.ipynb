{
 "cells": [
  {
   "cell_type": "markdown",
   "id": "choice-director",
   "metadata": {},
   "source": [
    "# Overview"
   ]
  },
  {
   "cell_type": "markdown",
   "id": "numerical-assistant",
   "metadata": {},
   "source": [
    "Descriptive statistical methods involve the use of statistical technique to quantitativly give a summary of the dataset. Some techniques will be use for the dataset:\n",
    "\n",
    "Central tendency: including Mean, Median and Mode\n",
    "\n",
    "Dispersion: range, standard deviation, variation"
   ]
  },
  {
   "cell_type": "markdown",
   "id": "unsigned-vegetation",
   "metadata": {},
   "source": [
    "# Import"
   ]
  },
  {
   "cell_type": "code",
   "execution_count": 1,
   "id": "acquired-beast",
   "metadata": {},
   "outputs": [],
   "source": [
    "import pandas as pd\n",
    "import numpy as np\n",
    "import ast\n",
    "import pprint\n",
    "\n",
    "from pandasql import sqldf\n",
    "pysqldf = lambda q:sqldf(q,globals())"
   ]
  },
  {
   "cell_type": "code",
   "execution_count": 2,
   "id": "physical-minute",
   "metadata": {},
   "outputs": [],
   "source": [
    "events = pd.read_csv('/Users/liyuanxie/Desktop/DataAnalysis/SQL/athlete_events.csv')"
   ]
  },
  {
   "cell_type": "code",
   "execution_count": 4,
   "id": "negative-register",
   "metadata": {},
   "outputs": [
    {
     "data": {
      "text/html": [
       "<div>\n",
       "<style scoped>\n",
       "    .dataframe tbody tr th:only-of-type {\n",
       "        vertical-align: middle;\n",
       "    }\n",
       "\n",
       "    .dataframe tbody tr th {\n",
       "        vertical-align: top;\n",
       "    }\n",
       "\n",
       "    .dataframe thead th {\n",
       "        text-align: right;\n",
       "    }\n",
       "</style>\n",
       "<table border=\"1\" class=\"dataframe\">\n",
       "  <thead>\n",
       "    <tr style=\"text-align: right;\">\n",
       "      <th></th>\n",
       "      <th>ID</th>\n",
       "      <th>Age</th>\n",
       "      <th>Height</th>\n",
       "      <th>Weight</th>\n",
       "      <th>Year</th>\n",
       "    </tr>\n",
       "  </thead>\n",
       "  <tbody>\n",
       "    <tr>\n",
       "      <th>count</th>\n",
       "      <td>271116.000000</td>\n",
       "      <td>261642.000000</td>\n",
       "      <td>210945.000000</td>\n",
       "      <td>208241.000000</td>\n",
       "      <td>271116.000000</td>\n",
       "    </tr>\n",
       "    <tr>\n",
       "      <th>mean</th>\n",
       "      <td>68248.954396</td>\n",
       "      <td>25.556898</td>\n",
       "      <td>175.338970</td>\n",
       "      <td>70.702393</td>\n",
       "      <td>1978.378480</td>\n",
       "    </tr>\n",
       "    <tr>\n",
       "      <th>std</th>\n",
       "      <td>39022.286345</td>\n",
       "      <td>6.393561</td>\n",
       "      <td>10.518462</td>\n",
       "      <td>14.348020</td>\n",
       "      <td>29.877632</td>\n",
       "    </tr>\n",
       "    <tr>\n",
       "      <th>min</th>\n",
       "      <td>1.000000</td>\n",
       "      <td>10.000000</td>\n",
       "      <td>127.000000</td>\n",
       "      <td>25.000000</td>\n",
       "      <td>1896.000000</td>\n",
       "    </tr>\n",
       "    <tr>\n",
       "      <th>25%</th>\n",
       "      <td>34643.000000</td>\n",
       "      <td>21.000000</td>\n",
       "      <td>168.000000</td>\n",
       "      <td>60.000000</td>\n",
       "      <td>1960.000000</td>\n",
       "    </tr>\n",
       "    <tr>\n",
       "      <th>50%</th>\n",
       "      <td>68205.000000</td>\n",
       "      <td>24.000000</td>\n",
       "      <td>175.000000</td>\n",
       "      <td>70.000000</td>\n",
       "      <td>1988.000000</td>\n",
       "    </tr>\n",
       "    <tr>\n",
       "      <th>75%</th>\n",
       "      <td>102097.250000</td>\n",
       "      <td>28.000000</td>\n",
       "      <td>183.000000</td>\n",
       "      <td>79.000000</td>\n",
       "      <td>2002.000000</td>\n",
       "    </tr>\n",
       "    <tr>\n",
       "      <th>max</th>\n",
       "      <td>135571.000000</td>\n",
       "      <td>97.000000</td>\n",
       "      <td>226.000000</td>\n",
       "      <td>214.000000</td>\n",
       "      <td>2016.000000</td>\n",
       "    </tr>\n",
       "  </tbody>\n",
       "</table>\n",
       "</div>"
      ],
      "text/plain": [
       "                  ID            Age         Height         Weight  \\\n",
       "count  271116.000000  261642.000000  210945.000000  208241.000000   \n",
       "mean    68248.954396      25.556898     175.338970      70.702393   \n",
       "std     39022.286345       6.393561      10.518462      14.348020   \n",
       "min         1.000000      10.000000     127.000000      25.000000   \n",
       "25%     34643.000000      21.000000     168.000000      60.000000   \n",
       "50%     68205.000000      24.000000     175.000000      70.000000   \n",
       "75%    102097.250000      28.000000     183.000000      79.000000   \n",
       "max    135571.000000      97.000000     226.000000     214.000000   \n",
       "\n",
       "                Year  \n",
       "count  271116.000000  \n",
       "mean     1978.378480  \n",
       "std        29.877632  \n",
       "min      1896.000000  \n",
       "25%      1960.000000  \n",
       "50%      1988.000000  \n",
       "75%      2002.000000  \n",
       "max      2016.000000  "
      ]
     },
     "execution_count": 4,
     "metadata": {},
     "output_type": "execute_result"
    }
   ],
   "source": [
    "events.describe()"
   ]
  },
  {
   "cell_type": "code",
   "execution_count": 33,
   "id": "jewish-galaxy",
   "metadata": {},
   "outputs": [],
   "source": [
    "def descriptive_stats (table_name, table_col):\n",
    "    #count\n",
    "    cnt = pysqldf (f\"\"\"SELECT \"COUNT\" as Stat, count({table_col}) as Value \n",
    "                        FROM {table_name};\"\"\")\n",
    "    #mean\n",
    "    mean = pysqldf (f\"\"\"SELECT \"MEAN\" as Stat, CAST(AVG({table_col}) as int) as Value\n",
    "                        FROM {table_name};\"\"\")\n",
    "    #median\n",
    "    median = pysqldf (f\"\"\"SELECT \"COUNT\" as Stat, {table_col} as Value \n",
    "                        FROM {table_name}\n",
    "                        ORDER BY {table_col}\n",
    "                        limit 1\n",
    "                        OFFSET (SELECT COUNT(*) FROM {table_name})/2;\"\"\")\n",
    "    #mode\n",
    "    mode = pysqldf (f\"\"\"SELECT \"MODE\" as Stat, {table_col} as Value, COUNT(*) as Count\n",
    "                        FROM {table_name}\n",
    "                        GROUP BY {table_col}\n",
    "                        ORDER BY COUNT(*) DESC\n",
    "                        limit 1;\"\"\")\n",
    "    #min and max\n",
    "    min = pysqldf (f\"\"\"SELECT \"MIN\" as Stat, MIN({table_col}) as Value \n",
    "                        FROM {table_name};\"\"\")\n",
    "    max = pysqldf (f\"\"\"SELECT \"MAX\" as Stat, MAX({table_col}) as Value \n",
    "                        FROM {table_name};\"\"\")\n",
    "    display(pd.concat(cnt, mean, median, min, max).set_index (\"Stat\"))\n",
    "    display(mode.set_index(\"Stat\"))\n",
    "    print(\"\")"
   ]
  },
  {
   "cell_type": "markdown",
   "id": "mental-angola",
   "metadata": {},
   "source": [
    "## Test Hypothesis"
   ]
  },
  {
   "cell_type": "code",
   "execution_count": 58,
   "id": "invalid-richmond",
   "metadata": {},
   "outputs": [],
   "source": [
    "year_cnt = pysqldf(\"SELECT year, COUNT(*) as cnt FROM events GROUP BY year ORDER BY year;\" )"
   ]
  },
  {
   "cell_type": "code",
   "execution_count": 59,
   "id": "particular-modification",
   "metadata": {},
   "outputs": [
    {
     "data": {
      "text/plain": [
       "<AxesSubplot:xlabel='Year'>"
      ]
     },
     "execution_count": 59,
     "metadata": {},
     "output_type": "execute_result"
    },
    {
     "data": {
      "image/png": "[encoded data removed]",
      "text/plain": [
       "<Figure size 432x288 with 1 Axes>"
      ]
     },
     "metadata": {
      "needs_background": "light"
     },
     "output_type": "display_data"
    }
   ],
   "source": [
    "year_cnt.plot('Year','cnt')"
   ]
  },
  {
   "cell_type": "markdown",
   "id": "commercial-simulation",
   "metadata": {},
   "source": [
    "Not more and more people participated in Olympics games. The max number of Athletes is in 1992."
   ]
  },
  {
   "cell_type": "code",
   "execution_count": 62,
   "id": "written-carnival",
   "metadata": {},
   "outputs": [
    {
     "data": {
      "text/html": [
       "<div>\n",
       "<style scoped>\n",
       "    .dataframe tbody tr th:only-of-type {\n",
       "        vertical-align: middle;\n",
       "    }\n",
       "\n",
       "    .dataframe tbody tr th {\n",
       "        vertical-align: top;\n",
       "    }\n",
       "\n",
       "    .dataframe thead th {\n",
       "        text-align: right;\n",
       "    }\n",
       "</style>\n",
       "<table border=\"1\" class=\"dataframe\">\n",
       "  <thead>\n",
       "    <tr style=\"text-align: right;\">\n",
       "      <th></th>\n",
       "      <th>Sex</th>\n",
       "      <th>cnt</th>\n",
       "    </tr>\n",
       "  </thead>\n",
       "  <tbody>\n",
       "    <tr>\n",
       "      <th>0</th>\n",
       "      <td>F</td>\n",
       "      <td>74522</td>\n",
       "    </tr>\n",
       "    <tr>\n",
       "      <th>1</th>\n",
       "      <td>M</td>\n",
       "      <td>196594</td>\n",
       "    </tr>\n",
       "  </tbody>\n",
       "</table>\n",
       "</div>"
      ],
      "text/plain": [
       "  Sex     cnt\n",
       "0   F   74522\n",
       "1   M  196594"
      ]
     },
     "execution_count": 62,
     "metadata": {},
     "output_type": "execute_result"
    }
   ],
   "source": [
    "pysqldf(\"SELECT sex, COUNT(*) as cnt FROM events GROUP BY sex;\" )"
   ]
  },
  {
   "cell_type": "markdown",
   "id": "above-township",
   "metadata": {},
   "source": [
    "Yes, more male athletes then female athletes."
   ]
  },
  {
   "cell_type": "code",
   "execution_count": 65,
   "id": "excessive-batman",
   "metadata": {},
   "outputs": [],
   "source": [
    "age_avg = pysqldf(\"SELECT year, AVG(age) as avg FROM events GROUP BY year ORDER BY year;\" )"
   ]
  },
  {
   "cell_type": "code",
   "execution_count": 68,
   "id": "absolute-fleet",
   "metadata": {},
   "outputs": [
    {
     "data": {
      "text/plain": [
       "<AxesSubplot:xlabel='Year'>"
      ]
     },
     "execution_count": 68,
     "metadata": {},
     "output_type": "execute_result"
    },
    {
     "data": {
      "image/png": "[encoded data removed]",
      "text/plain": [
       "<Figure size 432x288 with 1 Axes>"
      ]
     },
     "metadata": {
      "needs_background": "light"
     },
     "output_type": "display_data"
    }
   ],
   "source": [
    "age_avg.plot('Year', 'avg')"
   ]
  },
  {
   "cell_type": "markdown",
   "id": "tender-speed",
   "metadata": {},
   "source": [
    "The average age reach the lowest point in 1980."
   ]
  },
  {
   "cell_type": "markdown",
   "id": "answering-luxury",
   "metadata": {},
   "source": [
    "## Next"
   ]
  },
  {
   "cell_type": "markdown",
   "id": "prescription-estate",
   "metadata": {},
   "source": [
    "Base on the average age result that I got from each Olympoc year, the average age is aroun 24-33 years old. \n",
    "Then the next step could test whether the age of an athlete has relationship to win a medal or not."
   ]
  }
 ],
 "metadata": {
  "kernelspec": {
   "display_name": "Python 3",
   "language": "python",
   "name": "python3"
  },
  "language_info": {
   "codemirror_mode": {
    "name": "ipython",
    "version": 3
   },
   "file_extension": ".py",
   "mimetype": "text/x-python",
   "name": "python",
   "nbconvert_exporter": "python",
   "pygments_lexer": "ipython3",
   "version": "3.8.5"
  }
 },
 "nbformat": 4,
 "nbformat_minor": 5
}
